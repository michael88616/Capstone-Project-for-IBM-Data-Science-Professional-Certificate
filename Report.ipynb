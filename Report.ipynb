{
 "cells": [
  {
   "cell_type": "markdown",
   "metadata": {},
   "source": [
    "### 1. Introduction\n",
    "\n",
    "This report explores the idea of openning a new Thai restaurant in Melbourne, a multi-culture costal city with over 5 million population. This report will select a suburb so that the new restaurant will have competitive advantage. First part of the report will discuss data used for analysis and then cluster suburbs by similarity. Among the suburb clusters that favour Thai restaurants, select one with least number of Thai restaurant. This suburb should provide the new restaurant a good chance to succeed."
   ]
  },
  {
   "cell_type": "markdown",
   "metadata": {},
   "source": [
    "### 2. Data\n",
    "\n",
    "This report will mostly utilise FourSquare data API and public data on the internet. Venue information are obtained via FourSquare API based on coordiates provided by http://www.corra.com.au/. Suburb information such as postcodes are scrapped off Wikipedia using BeautifulSoup"
   ]
  },
  {
   "cell_type": "markdown",
   "metadata": {},
   "source": [
    "### 3. Methodology\n",
    "\n",
    "After data are cleaned and parsed, there are 246 suburbs with all necessary data. Then data is normalised by calculating venue frequency in each suburb as the table below.\n",
    "\n",
    "![title](suburb_venue_frequency.PNG)\n",
    "\n",
    "k-clustering is appled to group the suburbs since the aim is to find a group of suburbs that would favor Thai food. k=50 is used to keep the number of suburbs in each cluster low. The list below shows clusters with high frequency of Thai restaurants.\n",
    "The list is sorted by median frequency of Thai restaurants in each cluster. For example, Cluster 1 has median 4.6% of venues are Thai restaurants.  \n",
    "\n",
    "![title](cluster_most_thai.PNG)\n",
    "\n",
    "\n",
    "The table below shows the suburb in cluster 1 along with most common venues in each suburb. It is obvious that this cluster has strong flavour for Asian food.\n",
    "\n",
    "![title](suburb_clustering.PNG)\n",
    "\n",
    "Next step is to select suburbs in cluster 1 that do not have Thai restaurants so that these suburbs share the same taste as other suburbs in cluster 1 and provide this new restaurant a head start.\n",
    "\n",
    "![title](cluster_1_map.PNG)\n",
    "\n",
    "The map above marks suburbs in cluster 1. Blue dots indicate suburbs that already have Thai restaurant whereas red dots are suburbs in cluster 1 but have not had Thai restaurant. "
   ]
  },
  {
   "cell_type": "markdown",
   "metadata": {},
   "source": [
    "### 4. Result\n",
    "\n",
    "The cluster 1 are all mid-ring suburbs which are geographically similar so K-Clustering is proved to be an appropriate techinque to be used in this task. It is also reasoable that these suburbs would share similar taste for Thai food. Among the candidate suburbs (red dots on the map), Morrobin Airport provides dense population and location close to CBD compared to other candidate suburbs."
   ]
  },
  {
   "cell_type": "markdown",
   "metadata": {},
   "source": [
    "### 5. Conclusion\n",
    "\n",
    "In summary, K-clustering is applied on Melbourne suburban data acquired from various sources. After a series of analysis, Moorabbin Airport appears to be a very promissing suburb for a new Thai restaurant to succeed. \n"
   ]
  }
 ],
 "metadata": {
  "kernelspec": {
   "display_name": "Python 3",
   "language": "python",
   "name": "python3"
  },
  "language_info": {
   "codemirror_mode": {
    "name": "ipython",
    "version": 3
   },
   "file_extension": ".py",
   "mimetype": "text/x-python",
   "name": "python",
   "nbconvert_exporter": "python",
   "pygments_lexer": "ipython3",
   "version": "3.7.2"
  }
 },
 "nbformat": 4,
 "nbformat_minor": 2
}
